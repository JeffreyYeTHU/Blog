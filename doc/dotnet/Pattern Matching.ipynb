{
  "cells": [
    {
      "cell_type": "markdown",
      "metadata": {},
      "source": [
        "# Pattern Matching"
      ]
    },
    {
      "cell_type": "markdown",
      "metadata": {},
      "source": [
        "Since its seventh version, C# has been borrowing more and more functional concepts from its little brother, F#.\n",
        "\n",
        "Among these concepts, pattern matching is probably the one that will affect most how code is written.\n",
        "\n",
        "This notebook give a recap of all the patterns available up to C# 9.0 and how to use them."
      ]
    },
    {
      "cell_type": "markdown",
      "metadata": {},
      "source": [
        "## What is pattern matching"
      ]
    },
    {
      "cell_type": "markdown",
      "metadata": {},
      "source": [
        "Before delving into the several patterns supported by the C# language, let’s introduce the concept of pattern matching.\n",
        "\n",
        "In this specific context, pattern matching is the act of checking whether a given object matches certain criteria.\n",
        "\n",
        "These criteria can range from “being an instance of a type” to “having a property whose value is within a range of values”."
      ]
    },
    {
      "cell_type": "markdown",
      "metadata": {},
      "source": [
        "## When to use pattern matchingPermalink"
      ]
    },
    {
      "cell_type": "markdown",
      "metadata": {},
      "source": [
        "Pattern matching excels at traversing complex object structures when the type system cannot help us.\n",
        "\n",
        "A good example is when exploring an object received from an external REST API.\n",
        "\n",
        "Also, it can be used to create a finite-state machine."
      ]
    },
    {
      "cell_type": "markdown",
      "metadata": {},
      "source": [
        "## Where to use pattern matchingPermalink"
      ]
    },
    {
      "cell_type": "markdown",
      "metadata": {},
      "source": [
        "Pattern matching is a check, therefore it can be used wherever we are introducing a branch in our code.\n",
        "\n",
        "Typical scenarios are:\n",
        "\n",
        "if statements, with the help of the keyword is,\n",
        "switch statements and expressions."
      ]
    },
    {
      "cell_type": "markdown",
      "metadata": {},
      "source": [
        "## Test subject"
      ]
    },
    {
      "cell_type": "markdown",
      "metadata": {},
      "source": [
        "The classes below will be our test subjects for this post.\n",
        "\n",
        "You will notice two things.\n",
        "\n",
        "Even if they clearly represent shapes, these classes share no common ancestor but for object.\n",
        "Their properties use the new keyword init. This means that we can set the value only via the constructor or when initializing the object."
      ]
    },
    {
      "cell_type": "code",
      "execution_count": 1,
      "metadata": {
        "dotnet_interactive": {
          "language": "csharp"
        }
      },
      "outputs": [],
      "source": [
        "public class Square \n",
        "{\n",
        "    public double Side { get; set; }\n",
        "}\n",
        "\n",
        "public class Circle\n",
        "{\n",
        "    public double Radius { get; set; }\n",
        "}\n",
        "\n",
        "public class Rectangle\n",
        "{\n",
        "    public double Length { get; set; }\n",
        "    public double Height { get; set; }\n",
        "}\n",
        "\n",
        "public class Triangle\n",
        "{\n",
        "    public double Base { get; set; }\n",
        "    public double Height { get; set; }\n",
        "}"
      ]
    },
    {
      "cell_type": "markdown",
      "metadata": {},
      "source": [
        "## Constant patterns"
      ]
    },
    {
      "cell_type": "code",
      "execution_count": 1,
      "metadata": {
        "dotnet_interactive": {
          "language": "csharp"
        }
      },
      "outputs": [],
      "source": [
        "// Constant pattern is the most basice one, but rarely used by themselves.\n",
        "var rect = new Rectangle{Height = 0, Length = 4};\n",
        "if (rect.Height is 0)\n",
        "{\n",
        "    Console.WriteLine(\"The rect has no height\");\n",
        "}"
      ]
    },
    {
      "cell_type": "code",
      "execution_count": 1,
      "metadata": {
        "dotnet_interactive": {
          "language": "csharp"
        }
      },
      "outputs": [],
      "source": [
        "// You can use == to achive the same, but be aware that == can be overrided\n",
        "if (rect.Height == 0)\n",
        "{\n",
        "    Console.WriteLine(\"The rect has no height\");\n",
        "}"
      ]
    },
    {
      "cell_type": "markdown",
      "metadata": {},
      "source": [
        "## Null pattern"
      ]
    },
    {
      "cell_type": "code",
      "execution_count": 1,
      "metadata": {
        "dotnet_interactive": {
          "language": "csharp"
        }
      },
      "outputs": [],
      "source": [
        "// null pattern is a special case of constant pattern\n",
        "if(rect is null)\n",
        "{\n",
        "    Console.WriteLine($\"This rec is null\");\n",
        "}\n",
        "else\n",
        "{\n",
        "    Console.WriteLine($\"Rec: height:{rect.Height}, length:{rect.Length}\");\n",
        "}"
      ]
    },
    {
      "cell_type": "code",
      "execution_count": 1,
      "metadata": {
        "dotnet_interactive": {
          "language": "csharp"
        }
      },
      "outputs": [],
      "source": [
        "// C# 9 come with logical pattern (explain later), and it make not null check more beautiful\n",
        "// if(rect is not null)\n",
        "// {\n",
        "//     Console.WriteLine($\"Rec: height:{rect.Height}, length:{rect.Length}\");\n",
        "// }"
      ]
    },
    {
      "cell_type": "markdown",
      "metadata": {},
      "source": [
        "## Type pattern"
      ]
    },
    {
      "cell_type": "code",
      "execution_count": 1,
      "metadata": {
        "dotnet_interactive": {
          "language": "csharp"
        }
      },
      "outputs": [],
      "source": [
        "// check a type and declare a variable of that type\n",
        "var shape = new Square {Side = 5};\n",
        "if (shape is Square sq)\n",
        "{\n",
        "    Console.WriteLine($\"This shape is squre, its side is {sq.Side}\");\n",
        "}"
      ]
    },
    {
      "cell_type": "code",
      "execution_count": 1,
      "metadata": {
        "dotnet_interactive": {
          "language": "csharp"
        }
      },
      "outputs": [],
      "source": [
        "// the above is equivalent to\n",
        "if (shape is Square)\n",
        "{\n",
        "    var sq = shape as Square;\n",
        "    Console.WriteLine($\"This shape is squre, its side is {sq.Side}\");\n",
        "}"
      ]
    },
    {
      "cell_type": "markdown",
      "metadata": {},
      "source": [
        "## Property pattern"
      ]
    },
    {
      "cell_type": "code",
      "execution_count": 1,
      "metadata": {
        "dotnet_interactive": {
          "language": "csharp"
        }
      },
      "outputs": [],
      "source": [
        "// This pattern allow to explore the object's properties\n",
        "var circle = new Circle{ Radius = 0};\n",
        "if (circle is {Radius: 0})\n",
        "{\n",
        "    Console.WriteLine(\"Circle redius is 0\");\n",
        "}"
      ]
    },
    {
      "cell_type": "code",
      "execution_count": 1,
      "metadata": {
        "dotnet_interactive": {
          "language": "csharp"
        }
      },
      "outputs": [],
      "source": [
        "// And it can be nested!\n",
        "public class Person\n",
        "{\n",
        "    public string FirstName { get; set; }\n",
        "\n",
        "    public string LastName { get; set; }\n",
        "\n",
        "    public DateTime DateOfBirth { get; set; }\n",
        "\n",
        "    public Person Father { get; set; }\n",
        "    public Person Mother{ get; set; }\n",
        "}\n",
        "\n",
        "var person = new Person{ Father = new Person{DateOfBirth = new DateTime(1960, 1, 1)}};\n",
        "if (person is { Father: { DateOfBirth: { Year: 1960 }}})\n",
        "{\n",
        "    Console.WriteLine(\"This person's father born in 1960\");\n",
        "}"
      ]
    },
    {
      "cell_type": "markdown",
      "metadata": {},
      "source": [
        "## Relational pattern"
      ]
    },
    {
      "cell_type": "code",
      "execution_count": 1,
      "metadata": {
        "dotnet_interactive": {
          "language": "csharp"
        }
      },
      "outputs": [],
      "source": [
        "// with relational pattern, comparision can be done\n",
        "// circle.Radius = 5;\n",
        "// if (circle is Circle {Radius: > 3})\n",
        "// {\n",
        "//     Console.WriteLine(\"this circle radius is over 3\");\n",
        "// }"
      ]
    },
    {
      "cell_type": "markdown",
      "metadata": {},
      "source": [
        "The notation used for the relational patterns is equivalent to the comparison operators.\n",
        "\n",
        "* \\> for *greater than*\n",
        "* \\>= for *greater or equal than*\n",
        "* < for *less than*\n",
        "* <= for *less or equal than*"
      ]
    },
    {
      "cell_type": "markdown",
      "metadata": {},
      "source": [
        "## Negated pattern"
      ]
    },
    {
      "cell_type": "markdown",
      "metadata": {},
      "source": [
        "First stop, this pattern will make null check so much cleaner"
      ]
    },
    {
      "cell_type": "code",
      "execution_count": 1,
      "metadata": {
        "dotnet_interactive": {
          "language": "csharp"
        }
      },
      "outputs": [],
      "source": [
        "// before, have to do this\n",
        "if (shape != null)\n",
        "{\n",
        "    Console.WriteLine(\"shape is not null\");\n",
        "}"
      ]
    },
    {
      "cell_type": "code",
      "execution_count": 1,
      "metadata": {
        "dotnet_interactive": {
          "language": "csharp"
        }
      },
      "outputs": [],
      "source": [
        "// now, just do this, it is like read plain english!\n",
        "// if (shape is not null)\n",
        "// {\n",
        "//     Console.WriteLine(\"shape is null\");\n",
        "// }"
      ]
    },
    {
      "cell_type": "code",
      "execution_count": 1,
      "metadata": {
        "dotnet_interactive": {
          "language": "csharp"
        }
      },
      "outputs": [],
      "source": [
        "// // Negated patterns can be prepended to any other pattern\n",
        "// if (circle is Circle {Radius: not 0})\n",
        "// {\n",
        "//     Console.WriteLine(\"Radius is 0\");\n",
        "// }"
      ]
    },
    {
      "cell_type": "markdown",
      "metadata": {},
      "source": [
        "## Conjunctive and Disjunctive pattern"
      ]
    },
    {
      "cell_type": "markdown",
      "metadata": {},
      "source": [
        "Conjuntive and disjuntive patterns take their intimidating name from the logical operations known as conjunction and disjunction, and I just refer then as logical pattern.\n",
        "\n",
        "Very much like the boolean operators && and || are used to pair expressions, the and and or keywords are used to pair patterns."
      ]
    },
    {
      "cell_type": "code",
      "execution_count": 1,
      "metadata": {
        "dotnet_interactive": {
          "language": "csharp"
        }
      },
      "outputs": [],
      "source": [
        "// // let's make comparision more pwoerful\n",
        "// if (circle is Circle {Radius: > 0 and < 5} circle)\n",
        "// {\n",
        "//     Console.WriteLine(\"This is a cirlce with radius between 0 and 5\");\n",
        "// }"
      ]
    },
    {
      "cell_type": "code",
      "execution_count": 1,
      "metadata": {
        "dotnet_interactive": {
          "language": "csharp"
        }
      },
      "outputs": [],
      "source": [
        "// now compaire to the old way of doing this\n",
        "// isn't the newer way clear and consise?\n",
        "if (circle is Circle)\n",
        "{\n",
        "    if (circle.Radius > 0 && circle.Radius < 100)\n",
        "    {\n",
        "        Console.WriteLine(\"This is a cirlce with radius between 0 and 5\");\n",
        "    }\n",
        "}"
      ]
    },
    {
      "cell_type": "markdown",
      "metadata": {},
      "source": [
        "Note the `and` and `or` pattern are not equivalent:\n",
        "\n",
        "* `and` cannot be placed between two type patterns (unless they are targeting interfaces)\n",
        "* `or` can be placed between two type patterns but it doesn’t support capturing\n",
        "* `and` cannot be placed in a property pattern without a relational one\n",
        "* `or` can be placed in a property pattern without a relational one and supports capturing\n",
        "* `or` cannot be used between two properties of the same object\n",
        "* `and` cannot be used between two properties of the same object, but it is implicit\n",
        "\n",
        "Some example:\n",
        "\n",
        "```csharp\n",
        "shape is Square and Circle // this will not compile\n",
        "shape is Square or Circle // OK!\n",
        "shape is Square or Circle smt // this will not compile\n",
        "shape is Square { Side: 0 and 1 } // this will not compile\n",
        "shape is Square { Side: 0 or 1 } sq // OK!\n",
        "shape is Rectangle { Height: 0 or Length: 0 } // this will not compile\n",
        "shape is Rectangle { Height: 0 } or Rectangle { Length: 0 } // OK!\n",
        "shape is Rectangle { Height: 0 and Length: 0 } // this will not compile\n",
        "shape is Rectangle { Height: 0, Length: 0 } re // OK! equivalent to the pattern above\n",
        "```"
      ]
    },
    {
      "cell_type": "markdown",
      "metadata": {},
      "source": [
        "## Var pattern"
      ]
    },
    {
      "cell_type": "markdown",
      "metadata": {},
      "source": [
        "While powerful and elegant, patterns can only be constant expressions.\n",
        "\n",
        "`var` patterns help with many of the remaining cases by allowing us to declare a variable that is visible outside of the pattern being matched.\n",
        "\n",
        "For example, let’s assure that the incoming shape is a Square whose side is a multiple of 2. Since patterns are constant expressions, we cannot perform the modulo calculation in the pattern."
      ]
    },
    {
      "cell_type": "code",
      "execution_count": 1,
      "metadata": {
        "dotnet_interactive": {
          "language": "csharp"
        }
      },
      "outputs": [],
      "source": [
        "// using var to use a property outside the scope\n",
        "var squere = new Square{ Side =5 };\n",
        "if (squere is Square { Side : var side} sq && side %2 == 1)\n",
        "{\n",
        "    Console.WriteLine(\"Side is odd\");\n",
        "}"
      ]
    },
    {
      "cell_type": "markdown",
      "metadata": {},
      "source": [
        "## Tuple pattern"
      ]
    },
    {
      "cell_type": "markdown",
      "metadata": {},
      "source": [
        "Some algorithms depend on multiple inputs. Tuple patterns allow you to switch based on multiple values expressed as a tuple."
      ]
    },
    {
      "cell_type": "code",
      "execution_count": 1,
      "metadata": {
        "dotnet_interactive": {
          "language": "csharp"
        }
      },
      "outputs": [],
      "source": [
        "// let's write a FizzBuzz with ease\n",
        "public void FizzBuzz(Int32 limit)\n",
        "{\n",
        "    Enumerable.Range(1, limit)\n",
        "        .Select(i => (i % 3 ==0, i % 5 == 0, i) switch\n",
        "        {\n",
        "            (true, false, _) => \"Fizz\",\n",
        "            (false, true, _) => \"Buzz\",\n",
        "            (true, true, _) => \"FizzBuzz\",\n",
        "            (_, _, var n) => $\"{n}\"\n",
        "        })\n",
        "        .ToList()\n",
        "        .ForEach(s => Console.WriteLine(s));\n",
        "}"
      ]
    },
    {
      "cell_type": "code",
      "execution_count": 1,
      "metadata": {
        "dotnet_interactive": {
          "language": "csharp"
        }
      },
      "outputs": [],
      "source": [
        "FizzBuzz(10)"
      ]
    },
    {
      "cell_type": "markdown",
      "metadata": {},
      "source": [
        "## Positional pattern"
      ]
    },
    {
      "cell_type": "markdown",
      "metadata": {},
      "source": [
        "Positional patterns come handy when working with types that are decorated with a deconstructor. In such cases, it is possible to define a pattern based on the values the object is deconstructed into."
      ]
    },
    {
      "cell_type": "code",
      "execution_count": 1,
      "metadata": {
        "dotnet_interactive": {
          "language": "csharp"
        }
      },
      "outputs": [],
      "source": [
        "public struct Rectangle\n",
        "{\n",
        "    public double Length { get; set; }\n",
        "    public double Height { get; set; }\n",
        "\n",
        "    public void Deconstruct(out double height, out double length)\n",
        "    {\n",
        "        height = Height;\n",
        "        length = Length;\n",
        "    }\n",
        "}"
      ]
    },
    {
      "cell_type": "code",
      "execution_count": 1,
      "metadata": {
        "dotnet_interactive": {
          "language": "csharp"
        }
      },
      "outputs": [],
      "source": [
        "// with that in hand, we can create patterns somehow similar to the tuple ones.\n",
        "var rect = new Rectangle{Height = 10, Length = 5};\n",
        "if (rect is (10, _) re)\n",
        "{\n",
        "    Console.WriteLine($\"Rec height is {rect.Length}\");\n",
        "}"
      ]
    }
  ],
  "metadata": {
    "kernelspec": {
      "display_name": ".NET (C#)",
      "language": "C#",
      "name": ".net-csharp"
    },
    "language_info": {
      "file_extension": ".cs",
      "mimetype": "text/x-csharp",
      "name": "C#",
      "pygments_lexer": "csharp",
      "version": "8.0"
    }
  },
  "nbformat": 4,
  "nbformat_minor": 4
}