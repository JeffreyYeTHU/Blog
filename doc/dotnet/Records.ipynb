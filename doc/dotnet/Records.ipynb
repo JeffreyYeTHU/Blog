{
 "cells": [
  {
   "cell_type": "markdown",
   "metadata": {
    "dotnet_interactive": {
     "language": "csharp"
    }
   },
   "source": [
    "# Records\r\n",
    "\r\n",
    "Records是在c#9中引入的新特性，它是一种特殊类，让我们看看它都有哪些特殊之处。"
   ]
  },
  {
   "cell_type": "markdown",
   "metadata": {},
   "source": [
    "## 创建record\r\n",
    "\r\n",
    "使用新引入的`record`关键字创建record。"
   ]
  },
  {
   "cell_type": "code",
   "execution_count": null,
   "metadata": {
    "dotnet_interactive": {
     "language": "csharp"
    }
   },
   "outputs": [],
   "source": [
    "// usual class flavor\r\n",
    "public record PersionRecordA\r\n",
    "{\r\n",
    "    public string FirstName { get; init; }\r\n",
    "    public string LastName { get; init; }\r\n",
    "}\r\n",
    "\r\n",
    "// positional flavour\r\n",
    "public record PersionRecordB(string FirstName, string LastName);\r\n",
    "\r\n",
    "// for comparision\r\n",
    "public class PersionClass\r\n",
    "{\r\n",
    "    public string FirstName { get; init; }\r\n",
    "    public string LastName { get; init; }\r\n",
    "}"
   ]
  },
  {
   "cell_type": "markdown",
   "metadata": {},
   "source": [
    "两种方法创建的record有所不同，在后面将详细表述。"
   ]
  },
  {
   "cell_type": "markdown",
   "metadata": {},
   "source": [
    "## 值相等\r\n",
    "\r\n",
    "record是特殊的类，因此它是引用类型。对于引用类型，其默认的相等是引用相等。而record类型，编译器在编译时，会为之重写相等，实现值相等的语义。与此相关被重写的有：\r\n",
    "* `Object.Equals()`\r\n",
    "* `Object.GetHashCode()`\r\n",
    "* 操作符`==`及`！=`\r\n",
    "\r\n",
    "因此，使用record，你可以免费或得这些好处。"
   ]
  },
  {
   "cell_type": "code",
   "execution_count": null,
   "metadata": {
    "dotnet_interactive": {
     "language": "csharp"
    }
   },
   "outputs": [
    {
     "data": {
      "text/plain": "pra1.Equals(pra2): True\r\n"
     },
     "output_type": "unknown"
    },
    {
     "data": {
      "text/plain": "pra1 == pra2: True\r\n"
     },
     "output_type": "unknown"
    }
   ],
   "source": [
    "var pra1 = new PersionRecordA{ FirstName = \"Jeffrey\", LastName = \"Ye\"};\r\n",
    "var pra2 = new PersionRecordA{ FirstName = \"Jeffrey\", LastName = \"Ye\"};\r\n",
    "Console.WriteLine($\"pra1.Equals(pra2): {pra1.Equals(pra2)}\");\r\n",
    "Console.WriteLine($\"pra1 == pra2: {pra1 == pra2}\");"
   ]
  },
  {
   "cell_type": "code",
   "execution_count": null,
   "metadata": {
    "dotnet_interactive": {
     "language": "csharp"
    }
   },
   "outputs": [
    {
     "data": {
      "text/plain": "pc1.Equals(pc2): False\r\n"
     },
     "output_type": "unknown"
    },
    {
     "data": {
      "text/plain": "pc1 == pc2: False\r\n"
     },
     "output_type": "unknown"
    }
   ],
   "source": [
    "var pc1 = new PersionClass{ FirstName = \"Jeffrey\", LastName = \"Ye\"};\r\n",
    "var pc2 = new PersionClass{ FirstName = \"Jeffrey\", LastName = \"Ye\"};\r\n",
    "Console.WriteLine($\"pc1.Equals(pc2): {pc1.Equals(pc2)}\");\r\n",
    "Console.WriteLine($\"pc1 == pc2: {pc1 == pc2}\");"
   ]
  },
  {
   "cell_type": "markdown",
   "metadata": {},
   "source": [
    "## `with`关键字\r\n",
    "\r\n",
    "我们创建一些imutable的对象，如果希望只修改少量的属性来创建新的实例，怎么办呢？c#9中引入了`with`关键字来简化新对象的创建。这在record有数量较多的属性时特别有用。"
   ]
  },
  {
   "cell_type": "code",
   "execution_count": null,
   "metadata": {
    "dotnet_interactive": {
     "language": "csharp"
    }
   },
   "outputs": [
    {
     "data": {
      "text/plain": "PersionRecordA { FirstName = Jan, LastName = Ye }\r\n"
     },
     "output_type": "unknown"
    }
   ],
   "source": [
    "var pra3 = pra1 with { FirstName = \"Jan\"};\r\n",
    "Console.WriteLine(pra3);"
   ]
  },
  {
   "cell_type": "markdown",
   "metadata": {},
   "source": [
    "# Imutablility\r\n",
    "\r\n",
    "record并不一定就是imutable的，我们来看看它是mutable的样子。"
   ]
  },
  {
   "cell_type": "code",
   "execution_count": null,
   "metadata": {
    "dotnet_interactive": {
     "language": "csharp"
    }
   },
   "outputs": [
    {
     "data": {
      "text/plain": "PersionRecordC { FirstName = Li, LastName = Fang }\r\n"
     },
     "output_type": "unknown"
    }
   ],
   "source": [
    "public record PersionRecordC\r\n",
    "{\r\n",
    "    public string FirstName { get; set;}\r\n",
    "    public string LastName { get; set;}\r\n",
    "}\r\n",
    "\r\n",
    "var prc1 = new PersionRecordC {FirstName = \"Phillip\", LastName = \"Fang\"};\r\n",
    "prc1.FirstName = \"Li\";\r\n",
    "Console.WriteLine(prc1);"
   ]
  },
  {
   "cell_type": "markdown",
   "metadata": {},
   "source": [
    "因此，是否imutable取决于属性的定义，定义为init就是imutable，定义为get就是mutable。"
   ]
  }
 ],
 "metadata": {
  "kernelspec": {
   "display_name": ".NET (C#)",
   "language": "C#",
   "name": ".net-csharp"
  },
  "language_info": {
   "file_extension": ".cs",
   "mimetype": "text/x-csharp",
   "name": "C#",
   "pygments_lexer": "csharp",
   "version": "9.0"
  }
 },
 "nbformat": 4,
 "nbformat_minor": 2
}