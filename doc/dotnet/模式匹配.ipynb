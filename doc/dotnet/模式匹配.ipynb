{
 "cells": [
  {
   "cell_type": "markdown",
   "metadata": {},
   "source": [
    "# 模式匹配\r\n",
    "\r\n",
    "模式匹配，是检查对象是否满足特定的条件。从C#7开始引入后，后续版本不断完善，让这个功能越来越完善。巧妙应用这个特性，可以让匹配的代码更加优雅。\r\n",
    "\r\n",
    "**什么时候用**\r\n",
    "\r\n",
    "当对象比较复杂，而对象本身的类型又不能帮助我们判定时。\r\n",
    "  \r\n",
    "**在哪用**\r\n",
    "\r\n",
    "* if statement，注意善用`is`关键字\r\n",
    "* switch expression/statement"
   ]
  },
  {
   "cell_type": "markdown",
   "metadata": {
    "dotnet_interactive": {
     "language": "csharp"
    }
   },
   "source": [
    "## 测试类\r\n",
    "\r\n",
    "为了后续表述方便，我们在此定义几个测试用类。\r\n",
    "\r\n",
    "* 类中使用了C#9的新特性：`init`\r\n",
    "* 它们虽然都是表达形状的类，但没有共同的基类"
   ]
  },
  {
   "cell_type": "code",
   "execution_count": null,
   "metadata": {
    "dotnet_interactive": {
     "language": "csharp"
    }
   },
   "outputs": [],
   "source": [
    "public class Square\r\n",
    "{\r\n",
    "    public double Side { get; init; }\r\n",
    "}\r\n",
    "\r\n",
    "public class Circle\r\n",
    "{\r\n",
    "    public double Radius { get; init; }\r\n",
    "}\r\n",
    "\r\n",
    "public class Rectangle\r\n",
    "{\r\n",
    "    public double Length { get; init; }\r\n",
    "    public double Height { get; init; }\r\n",
    "}\r\n",
    "\r\n",
    "public class Triangle\r\n",
    "{\r\n",
    "    public double Base { get; init; }\r\n",
    "    public double Height { get; init; }\r\n",
    "}"
   ]
  },
  {
   "cell_type": "markdown",
   "metadata": {},
   "source": [
    "## Patterns\r\n",
    "\r\n",
    "C#中现在有很多pattern，它们各有各的作用，经组合后有巨大的威力。\r\n",
    "\r\n",
    "### Constant patterns\r\n",
    "\r\n",
    "Constant patterns是最基础的patterns，因此它们很少单独使用。"
   ]
  },
  {
   "cell_type": "code",
   "execution_count": null,
   "metadata": {
    "dotnet_interactive": {
     "language": "csharp"
    }
   },
   "outputs": [
    {
     "data": {
      "text/plain": "This rectangel has height\n"
     },
     "output_type": "unknown"
    }
   ],
   "source": [
    "var rect = new Rectangle{Height = 6, Length =4};\r\n",
    "if (rect.Height is 0)\r\n",
    "{\r\n",
    "    Console.WriteLine(\"This rectangel has no height\");\r\n",
    "}\r\n",
    "else\r\n",
    "{\r\n",
    "    Console.WriteLine(\"This rectangel has height\");\r\n",
    "}"
   ]
  },
  {
   "cell_type": "markdown",
   "metadata": {},
   "source": [
    "Constant patterns在C#7中引入。与直接使用`==`不同的是，`==`可以被重载，而constant patterns不能。"
   ]
  },
  {
   "cell_type": "markdown",
   "metadata": {
    "dotnet_interactive": {
     "language": "csharp"
    }
   },
   "source": [
    "### Null Pattern\r\n",
    "\r\n",
    "Null pattern是constant patterns的一个特例。用于判断对象是否为null。"
   ]
  },
  {
   "cell_type": "code",
   "execution_count": null,
   "metadata": {
    "dotnet_interactive": {
     "language": "csharp"
    }
   },
   "outputs": [
    {
     "data": {
      "application/x.notebook.error-traceback": {
       "ename": "Error",
       "evalue": "System.Exception: rect is null\r\n   at Submission#10.<<Initialize>>d__0.MoveNext()\r\n--- End of stack trace from previous location ---\r\n   at Microsoft.CodeAnalysis.Scripting.ScriptExecutionState.RunSubmissionsAsync[TResult](ImmutableArray`1 precedingExecutors, Func`2 currentExecutor, StrongBox`1 exceptionHolderOpt, Func`2 catchExceptionOpt, CancellationToken cancellationToken)",
       "traceback": []
      }
     },
     "output_type": "unknown"
    }
   ],
   "source": [
    "rect = null;\r\n",
    "if (rect is null)\r\n",
    "{\r\n",
    "    throw new Exception(\"rect is null\");\r\n",
    "}"
   ]
  },
  {
   "cell_type": "markdown",
   "metadata": {},
   "source": [
    "### Type pattern\r\n",
    "\r\n",
    "Type pattern可以在检查对象是否为某个类实例的同时，声明一个被检查类型的变量。"
   ]
  },
  {
   "cell_type": "code",
   "execution_count": null,
   "metadata": {
    "dotnet_interactive": {
     "language": "csharp"
    }
   },
   "outputs": [
    {
     "data": {
      "text/plain": "The area of the squre is 25\r\n"
     },
     "output_type": "unknown"
    }
   ],
   "source": [
    "var shape = new Square{Side = 5};\r\n",
    "if (shape is Square sq)\r\n",
    "{\r\n",
    "    Console.WriteLine($\"The area of the squre is {sq.Side * sq.Side}\");\r\n",
    "}"
   ]
  },
  {
   "cell_type": "code",
   "execution_count": null,
   "metadata": {
    "dotnet_interactive": {
     "language": "csharp"
    }
   },
   "outputs": [
    {
     "data": {
      "text/plain": "The area of the squre is 25\r\n"
     },
     "output_type": "unknown"
    }
   ],
   "source": [
    "// the following is the same, but a bit verbose.\r\n",
    "var s = new Square{Side = 5};\r\n",
    "if (s is Square)\r\n",
    "{\r\n",
    "    var sq = s as Square;\r\n",
    "    Console.WriteLine($\"The area of the squre is {sq.Side * sq.Side}\");\r\n",
    "}"
   ]
  },
  {
   "cell_type": "markdown",
   "metadata": {},
   "source": [
    "### Property pattern\n",
    "\n",
    "Property pattern可检查一个对象的属性，在c#8中引入。"
   ]
  },
  {
   "cell_type": "code",
   "execution_count": null,
   "metadata": {
    "dotnet_interactive": {
     "language": "csharp"
    }
   },
   "outputs": [
    {
     "data": {
      "text/plain": "Rec height is 6\n"
     },
     "output_type": "unknown"
    },
    {
     "data": {
      "text/plain": "Rec height is 6\n"
     },
     "output_type": "unknown"
    }
   ],
   "source": [
    "if (rect is {Height: 6})\n",
    "{\n",
    "    Console.WriteLine(\"Rec height is 6\");\n",
    "}\n",
    "\n",
    "// notice this is same with:\n",
    "if (rect.Height is 6)\n",
    "{\n",
    "    Console.WriteLine(\"Rec height is 6\");\n",
    "}"
   ]
  },
  {
   "cell_type": "markdown",
   "metadata": {},
   "source": [
    "Property pattern看起来有些多余，而且与constant pattern相比，可读性也差一些。不过后面会看到，它与其他模式组合起来，可以发挥更大的作用。"
   ]
  },
  {
   "cell_type": "markdown",
   "metadata": {},
   "source": [
    "### Rational pattern\n",
    "\n",
    "Rational pattern用于比较，在c#9中引入。"
   ]
  },
  {
   "cell_type": "code",
   "execution_count": null,
   "metadata": {
    "dotnet_interactive": {
     "language": "csharp"
    }
   },
   "outputs": [
    {
     "data": {
      "text/plain": "This is big circle\n"
     },
     "output_type": "unknown"
    },
    {
     "data": {
      "text/plain": "This is big circle\n"
     },
     "output_type": "unknown"
    }
   ],
   "source": [
    "var shape = new Circle{Radius = 11};\n",
    "if (shape is Circle {Radius: > 10})\n",
    "{\n",
    "    Console.WriteLine(\"This is big circle\");\n",
    "}\n",
    "\n",
    "// without rational and property pattern, we will do:\n",
    "if (shape is Circle cr)\n",
    "{\n",
    "    if (cr.Radius > 10)\n",
    "        Console.WriteLine(\"This is big circle\");\n",
    "}"
   ]
  },
  {
   "cell_type": "markdown",
   "metadata": {},
   "source": [
    "上面同时使用了property pattern和rational pattern。与不用pattern的代码相比，更简洁，意图也更清晰。"
   ]
  },
  {
   "cell_type": "markdown",
   "metadata": {
    "dotnet_interactive": {
     "language": "csharp"
    }
   },
   "source": [
    "### Negate pattern\n",
    "\n",
    "Negate pattern用于否定判断，使用关键字`not`，在c#9引入。"
   ]
  },
  {
   "cell_type": "code",
   "execution_count": null,
   "metadata": {
    "dotnet_interactive": {
     "language": "csharp"
    }
   },
   "outputs": [
    {
     "data": {
      "text/plain": "Circle has radius\n"
     },
     "output_type": "unknown"
    },
    {
     "data": {
      "text/plain": "not null is so much elegant now\n"
     },
     "output_type": "unknown"
    }
   ],
   "source": [
    "if (shape is Circle {Radius: not 0})\n",
    "{\n",
    "    Console.WriteLine(\"Circle has radius\");\n",
    "}\n",
    "\n",
    "if (shape is not null)\n",
    "{\n",
    "    Console.WriteLine(\"not null is so much elegant now\");\n",
    "}"
   ]
  },
  {
   "cell_type": "markdown",
   "metadata": {},
   "source": [
    "Negate pattern让非null的判断变得如此优雅。Love it!"
   ]
  },
  {
   "cell_type": "markdown",
   "metadata": {},
   "source": [
    "### Conjunctive and Disjunctive pattern\n",
    "\n",
    "千万不要被这个名字吓到。这两个pattern与条件判断中`&&`与`||`运算符的作用相似：用关键字`and`和`or`用于把判断组对。也在c#9中引入。"
   ]
  },
  {
   "cell_type": "code",
   "execution_count": null,
   "metadata": {
    "dotnet_interactive": {
     "language": "csharp"
    }
   },
   "outputs": [
    {
     "data": {
      "text/plain": "Good circle with radius: 11\n"
     },
     "output_type": "unknown"
    }
   ],
   "source": [
    "if(shape is Circle {Radius: > 0 and < 100} circle)\n",
    "{\n",
    "    Console.WriteLine($\"Good circle with radius: {circle.Radius}\");\n",
    "}"
   ]
  },
  {
   "cell_type": "markdown",
   "metadata": {},
   "source": [
    "使用时注意有一些限制：\n",
    "* and cannot be placed between two type patterns (unless they are targeting interfaces)\n",
    "* or can be placed between two type patterns but it doesn’t support capturing\n",
    "* and cannot be placed in a property pattern without a relational one\n",
    "* or can be placed in a property pattern without a relational one and supports capturing\n",
    "* or cannot be used between two properties of the same object\n",
    "* and cannot be used between two properties of the same object, but it is implicit\n",
    "\n",
    "不要被这些规则吓到了，事实上，在实际使用时，是否合理通常都可以推测出来:\n",
    "\n",
    "```csharp\n",
    "if (shape is Square and Circle ); // this will not compile\n",
    "if (shape is Square or Circle); // OK!\n",
    "if (shape is Square or Circle smt); // this will not compile\n",
    "if (shape is Square { Side: 0 and 1 }); // this will not compile\n",
    "if (shape is Square { Side: 0 or 1 } sq); // OK!\n",
    "if (shape is Rectangle { Height: 0 or Length: 0 }); // this will not compile\n",
    "if (shape is Rectangle { Height: 0 } or Rectangle { Length: 0 }); // OK!\n",
    "if (shape is Rectangle { Height: 0 and Length: 0 }); // this will not compile\n",
    "if (shape is Rectangle { Height: 0, Length: 0 } re); // OK! equivalent to the pattern above\n",
    "```"
   ]
  },
  {
   "cell_type": "markdown",
   "metadata": {},
   "source": [
    "## var pattern\r\n",
    "\r\n",
    "var pattern的引入，突破了pattern matching只能用于常量的限制。可以在找到match的同时，声明一个变量，然后在pattern matching之外使用这个变量。"
   ]
  },
  {
   "cell_type": "code",
   "execution_count": null,
   "metadata": {
    "dotnet_interactive": {
     "language": "csharp"
    }
   },
   "outputs": [
    {
     "data": {
      "text/plain": "This is an even square\r\n"
     },
     "output_type": "unknown"
    }
   ],
   "source": [
    "var mySquare = new Square{ Side = 10 };\r\n",
    "if (mySquare is Square {Side: var side} sq && side % 2 == 0)\r\n",
    "{\r\n",
    "    Console.WriteLine(\"This is an even square\");\r\n",
    "}"
   ]
  },
  {
   "cell_type": "markdown",
   "metadata": {},
   "source": [
    "## Tupple pattern\r\n",
    "\r\n",
    "当分支选择依赖于多个变量时，使用tupple pattern就非常方便。让我们看看使用这个pattern可以把FizBuz写得多么简洁。"
   ]
  },
  {
   "cell_type": "code",
   "execution_count": null,
   "metadata": {
    "dotnet_interactive": {
     "language": "csharp"
    }
   },
   "outputs": [
    {
     "data": {
      "text/plain": "1\r\n"
     },
     "output_type": "unknown"
    },
    {
     "data": {
      "text/plain": "Fizz\r\n"
     },
     "output_type": "unknown"
    },
    {
     "data": {
      "text/plain": "Buzz\r\n"
     },
     "output_type": "unknown"
    },
    {
     "data": {
      "text/plain": "FizzBuzz\r\n"
     },
     "output_type": "unknown"
    }
   ],
   "source": [
    "public class Foo\r\n",
    "{\r\n",
    "    public static string FizzBuzz(int a)\r\n",
    "    {\r\n",
    "        return (a % 3 == 0, a % 5 ==0) switch\r\n",
    "        {\r\n",
    "            (true, false) => \"Fizz\",\r\n",
    "            (false, true) => \"Buzz\",\r\n",
    "            (true, true) => \"FizzBuzz\",\r\n",
    "            _ => $\"{a}\"\r\n",
    "        };\r\n",
    "    }\r\n",
    "}\r\n",
    "\r\n",
    "Console.WriteLine(Foo.FizzBuzz(1));\r\n",
    "Console.WriteLine(Foo.FizzBuzz(3));\r\n",
    "Console.WriteLine(Foo.FizzBuzz(5));\r\n",
    "Console.WriteLine(Foo.FizzBuzz(15));"
   ]
  },
  {
   "cell_type": "markdown",
   "metadata": {},
   "source": [
    "## Positional pattern\r\n",
    "\r\n",
    "当对象有析构器时，就可以使用Positional pattern。使用时，与tupple pattern有类似之处。"
   ]
  },
  {
   "cell_type": "code",
   "execution_count": null,
   "metadata": {
    "dotnet_interactive": {
     "language": "csharp"
    }
   },
   "outputs": [
    {
     "data": {
      "text/plain": "This rec has length 10\r\n"
     },
     "output_type": "unknown"
    }
   ],
   "source": [
    "public class RectangleWithDector\r\n",
    "{\r\n",
    "    public double Length{ get; init; }\r\n",
    "    public double Height{ get; init; }\r\n",
    "\r\n",
    "    public void Deconstruct(out double length, out double height)\r\n",
    "    {\r\n",
    "        length = Length;\r\n",
    "        height = Height;\r\n",
    "    }\r\n",
    "}\r\n",
    "\r\n",
    "var rectd = new RectangleWithDector{ Length = 10, Height = 5 };\r\n",
    "if (rectd is (10, _))\r\n",
    "{\r\n",
    "    Console.WriteLine(\"This rec has length 10\");\r\n",
    "}"
   ]
  },
  {
   "cell_type": "markdown",
   "metadata": {},
   "source": [
    "# Conclusion\r\n",
    "\r\n",
    "与所有特性一样，在合适的地方使用它。事实上，pattern matching并没有让C#的功能增加，它只是让一些需要判断的情形语法更简洁，更重要的是，让代码意图更加明显。这也是判断是否使用它的条件：**如果pattern matching可以让代码意图更明显，就使用它**。"
   ]
  }
 ],
 "metadata": {
  "kernelspec": {
   "display_name": ".NET (C#)",
   "language": "C#",
   "name": ".net-csharp"
  },
  "language_info": {
   "name": "dotnet-interactive.csharp"
  },
  "orig_nbformat": 2
 },
 "nbformat": 4,
 "nbformat_minor": 2
}