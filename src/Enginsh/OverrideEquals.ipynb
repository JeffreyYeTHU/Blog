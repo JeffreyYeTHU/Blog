{
  "cells": [
    {
      "cell_type": "markdown",
      "metadata": {},
      "source": [
        "# Overview\n",
        "\n",
        "Override equals is a vital when you want to achieve value equalitity. This tutorial will go throuth the following points:\n",
        "1. Refference equality VS Value equality\n",
        "2. Override Equals\n",
        "3. Override GetHashcode"
      ]
    },
    {
      "cell_type": "markdown",
      "metadata": {},
      "source": [
        "# Refference equality VS Value equality\n",
        "\n",
        "In .NET, everything is object, refference equal means tow object point to he same place in memory."
      ]
    },
    {
      "cell_type": "code",
      "execution_count": 1,
      "metadata": {
        "dotnet_interactive": {
          "language": "csharp"
        }
      },
      "source": [
        "public class Person\n",
        "{\n",
        "    public string FirstName{get;set;}\n",
        "    public string LastName{get;set;}\n",
        "}"
      ],
      "outputs": []
    },
    {
      "cell_type": "code",
      "execution_count": 1,
      "metadata": {
        "dotnet_interactive": {
          "language": "csharp"
        }
      },
      "source": [
        "var firstPerson = new Person\n",
        "{\n",
        "    FirstName = \"Jeff\",\n",
        "    LastName = \"Ye\"\n",
        "};\n",
        "var anotherPerson = firstPerson;\n",
        "Console.WriteLine(object.ReferenceEquals(firstPerson, anotherPerson))"
      ],
      "outputs": [
        {
          "output_type": "execute_result",
          "data": {
            "text/plain": "True\r\n"
          },
          "execution_count": 1,
          "metadata": {}
        }
      ]
    },
    {
      "cell_type": "code",
      "execution_count": 1,
      "metadata": {
        "dotnet_interactive": {
          "language": "csharp"
        }
      },
      "source": [
        "var firstPerson = new Person\n",
        "{\n",
        "    FirstName = \"Jeff\",\n",
        "    LastName = \"Ye\"\n",
        "};\n",
        "var anotherPerson = new Person\n",
        "{\n",
        "    FirstName = \"Jeff\",\n",
        "    LastName = \"Ye\"\n",
        "};\n",
        "Console.WriteLine(object.ReferenceEquals(firstPerson, anotherPerson))"
      ],
      "outputs": [
        {
          "output_type": "execute_result",
          "data": {
            "text/plain": "False\r\n"
          },
          "execution_count": 1,
          "metadata": {}
        }
      ]
    },
    {
      "cell_type": "code",
      "execution_count": 1,
      "metadata": {
        "dotnet_interactive": {
          "language": "csharp"
        }
      },
      "source": [
        ""
      ],
      "outputs": []
    }
  ],
  "metadata": {
    "kernelspec": {
      "display_name": ".NET (C#)",
      "language": "C#",
      "name": ".net-csharp"
    },
    "language_info": {
      "file_extension": ".cs",
      "mimetype": "text/x-csharp",
      "name": "C#",
      "pygments_lexer": "csharp",
      "version": "8.0"
    }
  },
  "nbformat": 4,
  "nbformat_minor": 4
}