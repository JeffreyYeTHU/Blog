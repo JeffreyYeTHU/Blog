{
  "cells": [
    {
      "cell_type": "markdown",
      "metadata": {},
      "source": [
        "# 重载相等\n",
        "\n",
        "在Object基类中，有一个虚函数Equals,用于判断本对象与其他对象的相等性，它的签名如下：\n",
        "```csharp\n",
        "public virtual bool Equals (object? obj);\n",
        "```\n",
        "\n",
        "由于Object类是所有C#类的最终基类，因此，所有对象都会继承这个虚函数。在讨论重载它之前，我们先来看看什么是相等。"
      ]
    },
    {
      "cell_type": "markdown",
      "metadata": {},
      "source": [
        "## 引用相等于值相等"
      ]
    },
    {
      "cell_type": "markdown",
      "metadata": {},
      "source": [
        "相等分两种，引用相等和值相等。\n",
        "\n",
        "两个对象，如果它们实际指向同一个内存地址，就称引用相等，可用Object.ReferenceEquals()函数判断。"
      ]
    },
    {
      "cell_type": "code",
      "execution_count": 1,
      "metadata": {
        "dotnet_interactive": {
          "language": "csharp"
        }
      },
      "source": [
        "public class Persion\n",
        "{\n",
        "    public string FristName { get; set; }\n",
        "    public string LastName { get; set; }\n",
        "}\n",
        "\n",
        "var p1 = new Persion{ FristName = \"Jeffrey\", LastName = \"Ye\"};\n",
        "var p2 = p1;  // shadow copy, reference to the same object\n",
        "var p3 = new Persion{ FristName = \"Jeffrey\", LastName = \"Ye\"};\n",
        "\n",
        "// Reference equal result\n",
        "Console.WriteLine($\"Object.ReferenceEquals(p2, p1): {Object.ReferenceEquals(p2, p1)}\");\n",
        "Console.WriteLine($\"Object.ReferenceEquals(p3, p1): {Object.ReferenceEquals(p3, p1)}\");\n",
        "\n",
        "// when not override Equals, it is default to be RefferenceEqual.\n",
        "Console.WriteLine($\"p2.Equals(p1): {p2.Equals(p1)}\");\n",
        "Console.WriteLine($\"p3.Equals(p1): {p3.Equals(p1)}\");"
      ],
      "outputs": [
        {
          "output_type": "execute_result",
          "data": {
            "text/plain": "Object.ReferenceEquals(p2, p1): True\n"
          },
          "execution_count": 1,
          "metadata": {}
        },
        {
          "output_type": "execute_result",
          "data": {
            "text/plain": "Object.ReferenceEquals(p3, p1): False\n"
          },
          "execution_count": 1,
          "metadata": {}
        },
        {
          "output_type": "execute_result",
          "data": {
            "text/plain": "p2.Equals(p1): True\n"
          },
          "execution_count": 1,
          "metadata": {}
        },
        {
          "output_type": "execute_result",
          "data": {
            "text/plain": "p3.Equals(p1): False\n"
          },
          "execution_count": 1,
          "metadata": {}
        }
      ]
    },
    {
      "cell_type": "markdown",
      "metadata": {},
      "source": [
        "上面的代码中，persion2和persion3浅拷贝persion1，因此它们都指向persion1所在内存，即引用相等。\n",
        "\n",
        "persion4与persion1有相同的属性，但是persion4是新建的另一个对象，在内存中分别存在因此引用不相等。但由于它们的属性包含的值都相同，因此这两个对象是值相等。"
      ]
    },
    {
      "cell_type": "markdown",
      "metadata": {},
      "source": [
        "## 如何重载相等\n",
        "\n",
        "既然要值相等，我们只需要判断两个对象的属性都是否相等即可。"
      ]
    },
    {
      "cell_type": "code",
      "execution_count": 1,
      "metadata": {
        "dotnet_interactive": {
          "language": "csharp"
        }
      },
      "source": [
        "public class PersionA\n",
        "{\n",
        "    public string FristName { get; set; }\n",
        "    public string LastName { get; set; }\n",
        "\n",
        "    public override bool Equals(Object obj)\n",
        "    {\n",
        "        var other = obj as PersionA;\n",
        "        return this.FristName == other.FristName\n",
        "            && this.LastName == other.LastName;\n",
        "    }\n",
        "}\n",
        "\n",
        "var pa1 = new PersionA { FristName = \"Jeffrey\", LastName = \"Ye\"};\n",
        "var pa2 = new PersionA { FristName = \"Jeffrey\", LastName = \"Ye\"};\n",
        "Console.WriteLine($\"pa1.Equals(pa2): {pa1.Equals(pa2)}\");"
      ],
      "outputs": [
        {
          "output_type": "execute_result",
          "data": {
            "text/plain": "pa1.Equals(pa2): True\n"
          },
          "execution_count": 1,
          "metadata": {}
        }
      ]
    },
    {
      "cell_type": "markdown",
      "metadata": {},
      "source": [
        "一切看起来都很完美，我们再试试其他值。"
      ]
    },
    {
      "cell_type": "code",
      "execution_count": 1,
      "metadata": {
        "dotnet_interactive": {
          "language": "csharp"
        }
      },
      "source": [
        "Console.WriteLine($\"pa1.Equals(pa2): {pa1.Equals(p1)}\");"
      ],
      "outputs": [
        {
          "output_type": "execute_result",
          "data": {
            "text/plain": "System.NullReferenceException: Object reference not set to an instance of an object.\n   at Submission#7.PersionA.Equals(Object obj)\n   at Submission#11.<<Initialize>>d__0.MoveNext()\n--- End of stack trace from previous location ---\n   at Microsoft.CodeAnalysis.Scripting.ScriptExecutionState.RunSubmissionsAsync[TResult](ImmutableArray`1 precedingExecutors, Func`2 currentExecutor, StrongBox`1 exceptionHolderOpt, Func`2 catchExceptionOpt, CancellationToken cancellationToken)"
          },
          "execution_count": 1,
          "metadata": {}
        }
      ]
    },
    {
      "cell_type": "markdown",
      "metadata": {},
      "source": [
        "咦,我们怎么会有一个**NullReferenceException**? 分析我们的实现不难发现，在将传入的对象强制转换为**PersionA**类型时，由于**Persion**类与**PersionA**类不能转换，因此转换的结果是null，从而在接下来的判断中，引发**NullReferenceException**。我们修改实现如下。"
      ]
    },
    {
      "cell_type": "code",
      "execution_count": 1,
      "metadata": {
        "dotnet_interactive": {
          "language": "csharp"
        }
      },
      "source": [
        "public class PersionB\n",
        "{\n",
        "    public string FristName { get; set; }\n",
        "    public string LastName { get; set; }\n",
        "\n",
        "    public override bool Equals(Object obj)\n",
        "    {\n",
        "        var other = obj as PersionB;\n",
        "        return other is Object\n",
        "            && this.FristName == other.FristName\n",
        "            && this.LastName == other.LastName;\n",
        "    }\n",
        "}\n",
        "\n",
        "var pb1 = new PersionB { FristName = \"Jeffrey\", LastName = \"Ye\"};\n",
        "var pb2 = new PersionB { FristName = \"Jeffrey\", LastName = \"Ye\"};\n",
        "\n",
        "Console.WriteLine($\"pb1.Equals(pb2): {pb1.Equals(pb2)}\");\n",
        "Console.WriteLine($\"pb1.Equals(p1): {pb1.Equals(p1)}\");"
      ],
      "outputs": [
        {
          "output_type": "execute_result",
          "data": {
            "text/plain": "pb1.Equals(pb2): True\n"
          },
          "execution_count": 1,
          "metadata": {}
        },
        {
          "output_type": "execute_result",
          "data": {
            "text/plain": "pb1.Equals(p1): False\n"
          },
          "execution_count": 1,
          "metadata": {}
        }
      ]
    },
    {
      "cell_type": "markdown",
      "metadata": {},
      "source": [
        "问题解决，但上面的实现还不完美，这其中有两点：\n",
        "1. 后面我们会看到，操作符`==`也是可以被重载的，因此，为了保险起见，在重写值相等时,最好避免使用该操作符。\n",
        "2. 传入的`obj`参数，在逐一比较它们的property之前，我们可以做一些特定的判断来提高性能。\n",
        "\n",
        "改进后的代码如下。"
      ]
    },
    {
      "cell_type": "code",
      "execution_count": 1,
      "metadata": {
        "dotnet_interactive": {
          "language": "csharp"
        }
      },
      "source": [
        "public class PersionC\n",
        "{\n",
        "    public string FristName { get; set; }\n",
        "    public string LastName { get; set; }\n",
        "\n",
        "    public override bool Equals(Object obj)\n",
        "    {\n",
        "        if (obj is null) return false;\n",
        "        if (ReferenceEquals(this, obj)) return true;\n",
        "        if (obj.GetType() != this.GetType()) return false;\n",
        "        var other = obj as PersionC;\n",
        "        return this.FristName.Equals(other.FristName)\n",
        "            && this.LastName.Equals(other.LastName);\n",
        "    }\n",
        "}"
      ],
      "outputs": []
    },
    {
      "cell_type": "markdown",
      "metadata": {},
      "source": [
        "## 重载==及!=操作符\n",
        "\n",
        "为什么要重载`==`及`!=`呢？为了保持类相等含义的一致性。考虑上一小节实现类，如果不重载这两个操作符，会发生什么？"
      ]
    },
    {
      "cell_type": "code",
      "execution_count": 1,
      "metadata": {
        "dotnet_interactive": {
          "language": "csharp"
        }
      },
      "source": [
        "var pc1 = new PersionC{ FristName = \"Jeffrey\", LastName = \"Ye\" };\n",
        "var pc2 = new PersionC{ FristName = \"Jeffrey\", LastName = \"Ye\" };\n",
        "Console.WriteLine($\"pc1.Equals(pc2): {pc1.Equals(pc2)}\");\n",
        "Console.WriteLine($\"pc1 == pc2: {pc1 == pc2}\");"
      ],
      "outputs": [
        {
          "output_type": "execute_result",
          "data": {
            "text/plain": "pc1.Equals(pc2): True\n"
          },
          "execution_count": 1,
          "metadata": {}
        },
        {
          "output_type": "execute_result",
          "data": {
            "text/plain": "pc1 == pc2: False\n"
          },
          "execution_count": 1,
          "metadata": {}
        }
      ]
    },
    {
      "cell_type": "markdown",
      "metadata": {},
      "source": [
        "从代码中可以看到，问题很严重！`==`和Equals一样，当不重载时，默认使用ReferenceEqual，当重载一个而不重载另一个时，就会造成它们的不一致，为使用这个类的人造成困惑，因此，Equals和这两个操作符通常是一起重载的。"
      ]
    },
    {
      "cell_type": "code",
      "execution_count": 1,
      "metadata": {
        "dotnet_interactive": {
          "language": "csharp"
        }
      },
      "source": [
        "public class PersionD\n",
        "{\n",
        "    public string FristName { get; set; }\n",
        "    public string LastName { get; set; }\n",
        "\n",
        "    public override bool Equals(Object obj)\n",
        "    {\n",
        "        if (obj is null) return false;\n",
        "        if (ReferenceEquals(this, obj)) return true;\n",
        "        if (obj.GetType() != this.GetType()) return false;\n",
        "        var other = obj as PersionD;\n",
        "        return this.FristName.Equals(other.FristName)\n",
        "            && this.LastName.Equals(other.LastName);\n",
        "    }\n",
        "\n",
        "    public static bool operator ==(PersionD left, PersionD right)\n",
        "    {\n",
        "        return left == right;\n",
        "    }\n",
        "\n",
        "    public static bool operator !=(PersionD left, PersionD right)\n",
        "    {\n",
        "        return left != right;\n",
        "    }\n",
        "}"
      ],
      "outputs": []
    },
    {
      "cell_type": "markdown",
      "metadata": {},
      "source": [
        "简单吧！但是我们无意中却引入了一个重大的bug！我们通过测试用例来看一看这个bug。"
      ]
    },
    {
      "cell_type": "code",
      "execution_count": 1,
      "metadata": {
        "dotnet_interactive": {
          "language": "csharp"
        }
      },
      "source": [
        "var pd1 = new PersionD{ FristName = \"Jeffrey\", LastName = \"Ye\" };\n",
        "var pd2 = new PersionD{ FristName = \"Jeffrey\", LastName = \"Ye\" };\n",
        "Console.WriteLine($\"pc1 == pc2: {pd1 == pd2}\");  // this will be a infinent loop"
      ],
      "outputs": []
    },
    {
      "cell_type": "markdown",
      "metadata": {},
      "source": [
        "运行上一个cell将会进入一个死循环，这是因为我们在操作符实现中调用了操作符自己，形成了一个递归调用的死循环！这是实现`==`操作符最需要注意的地方。"
      ]
    },
    {
      "cell_type": "code",
      "execution_count": 1,
      "metadata": {
        "dotnet_interactive": {
          "language": "csharp"
        }
      },
      "source": [
        "public class PersionE\n",
        "{\n",
        "    public string FristName { get; set; }\n",
        "    public string LastName { get; set; }\n",
        "\n",
        "    public override bool Equals(Object obj)\n",
        "    {\n",
        "        if (obj is null) return false;\n",
        "        if (ReferenceEquals(this, obj)) return true;\n",
        "        if (obj.GetType() != this.GetType()) return false;\n",
        "        var other = obj as PersionE;\n",
        "        return this.FristName.Equals(other.FristName)\n",
        "            && this.LastName.Equals(other.LastName);\n",
        "    }\n",
        "\n",
        "    public static bool operator ==(PersionE left, PersionE right)\n",
        "    {\n",
        "        if (left is null) return right is null;\n",
        "        return left.Equals(right);\n",
        "    }\n",
        "\n",
        "    public static bool operator !=(PersionE left, PersionE right)\n",
        "    {\n",
        "        return !(left == right);\n",
        "    }\n",
        "}\n",
        "\n",
        "var pe1 = new PersionE{ FristName = \"Jeffrey\", LastName = \"Ye\" };\n",
        "var pe2 = new PersionE{ FristName = \"Jeffrey\", LastName = \"Ye\" };\n",
        "Console.WriteLine($\"pe1.Equals(pe2): {pe1.Equals(pe2)}\");\n",
        "Console.WriteLine($\"pc1 == pc2: {pe1 == pe2}\");"
      ],
      "outputs": [
        {
          "output_type": "execute_result",
          "data": {
            "text/plain": "pe1.Equals(pe2): True\n"
          },
          "execution_count": 1,
          "metadata": {}
        },
        {
          "output_type": "execute_result",
          "data": {
            "text/plain": "pc1 == pc2: True\n"
          },
          "execution_count": 1,
          "metadata": {}
        }
      ]
    },
    {
      "cell_type": "markdown",
      "metadata": {},
      "source": [
        "OK，现在Equals和`==`的结果一样了，我们是否完成任务了呢？"
      ]
    },
    {
      "cell_type": "markdown",
      "metadata": {},
      "source": [
        "## Override GetHashcode()\n",
        "\n",
        "当然没有。其实，编译器已经在向我们发出警告：你实现了Equals， 但是没有实现GetHashcode！为什么编译器要发出这个警告呢？\n",
        "\n",
        "假设现在程序需要组织以Persion为Key的键值对数据结构，我们来看看会发生什么。"
      ]
    },
    {
      "cell_type": "code",
      "execution_count": 1,
      "metadata": {
        "dotnet_interactive": {
          "language": "csharp"
        }
      },
      "source": [
        "Dictionary<PersionE, string> persionPositionDic = new();\n",
        "persionPositionDic.Add(pe1, \"Software Engineer\");\n",
        "persionPositionDic.Add(pe2, \"Mechanical Engineer\");"
      ],
      "outputs": []
    },
    {
      "cell_type": "markdown",
      "metadata": {},
      "source": [
        "上面的代码没有报duplication key error，这是个问题！"
      ]
    },
    {
      "cell_type": "code",
      "execution_count": 1,
      "metadata": {
        "dotnet_interactive": {
          "language": "csharp"
        }
      },
      "source": [
        "string position = persionPositionDic[new PersionE{ FristName = \"Jeffrey\", LastName = \"Ye\" }];"
      ],
      "outputs": [
        {
          "output_type": "execute_result",
          "data": {
            "text/plain": "System.Collections.Generic.KeyNotFoundException: The given key 'Submission#16+PersionE' was not present in the dictionary.\n   at System.Collections.Generic.Dictionary`2.get_Item(TKey key)\n   at Submission#19.<<Initialize>>d__0.MoveNext()\n--- End of stack trace from previous location ---\n   at Microsoft.CodeAnalysis.Scripting.ScriptExecutionState.RunSubmissionsAsync[TResult](ImmutableArray`1 precedingExecutors, Func`2 currentExecutor, StrongBox`1 exceptionHolderOpt, Func`2 catchExceptionOpt, CancellationToken cancellationToken)"
          },
          "execution_count": 1,
          "metadata": {}
        }
      ]
    },
    {
      "cell_type": "markdown",
      "metadata": {},
      "source": [
        "用值相等的key无法从字典中取出数据！只有在传入原来的object才能取出数据："
      ]
    },
    {
      "cell_type": "code",
      "execution_count": 1,
      "metadata": {
        "dotnet_interactive": {
          "language": "csharp"
        }
      },
      "source": [
        "string position = persionPositionDic[pe1];\n",
        "Console.WriteLine(position);"
      ],
      "outputs": [
        {
          "output_type": "execute_result",
          "data": {
            "text/plain": "Software Engineer\n"
          },
          "execution_count": 1,
          "metadata": {}
        }
      ]
    },
    {
      "cell_type": "markdown",
      "metadata": {},
      "source": [
        "### 如何重载GetHashcode？\n",
        "\n",
        "让我们通过重载GetHashcode来解决上面的问题。下面的实现参考了：[Stackoverflow gethashcode question](http://stackoverflow.com/questions/263400/what-is-the-best-algorithm-for-an-overridden-system-object-gethashcode)"
      ]
    },
    {
      "cell_type": "code",
      "execution_count": 1,
      "metadata": {
        "dotnet_interactive": {
          "language": "csharp"
        }
      },
      "source": [
        "public class PersionF\n",
        "{\n",
        "    public string FristName { get; set; }\n",
        "    public string LastName { get; set; }\n",
        "\n",
        "    public override bool Equals(Object obj)\n",
        "    {\n",
        "        if (obj is null) return false;\n",
        "        if (ReferenceEquals(this, obj)) return true;\n",
        "        if (obj.GetType() != this.GetType()) return false;\n",
        "        var other = obj as PersionF;\n",
        "        return this.FristName.Equals(other.FristName)\n",
        "            && this.LastName.Equals(other.LastName);\n",
        "    }\n",
        "\n",
        "    public static bool operator ==(PersionF left, PersionF right)\n",
        "    {\n",
        "        if (left is null) return right is null;\n",
        "        return left.Equals(right);\n",
        "    }\n",
        "\n",
        "    public static bool operator !=(PersionF left, PersionF right)\n",
        "    {\n",
        "        return !(left == right);\n",
        "    }\n",
        "\n",
        "    public override int GetHashCode()\n",
        "    {\n",
        "        int HashingBase = 13;\n",
        "        int HashingMultiplier = 7;\n",
        "\n",
        "        int hash = HashingBase;\n",
        "        hash = (hash * HashingMultiplier) + (FristName is Object ? FristName.GetHashCode() : 0);\n",
        "        hash = (hash * HashingMultiplier) + (LastName is Object ? LastName.GetHashCode() : 0);\n",
        "        return hash;\n",
        "    }\n",
        "}"
      ],
      "outputs": []
    },
    {
      "cell_type": "markdown",
      "metadata": {},
      "source": [
        "现在使用字典就没有问题了："
      ]
    },
    {
      "cell_type": "code",
      "execution_count": 1,
      "metadata": {
        "dotnet_interactive": {
          "language": "csharp"
        }
      },
      "source": [
        "Dictionary<PersionF, string> persionPositionDic = new();\n",
        "persionPositionDic.Add(new PersionF{ FristName = \"Jeffrey\", LastName = \"Ye\" }, \"Software Engineer\");\n",
        "persionPositionDic.Add(new PersionF{ FristName = \"Jeffrey\", LastName = \"Ye\" }, \"Mechanical Engineer\");"
      ],
      "outputs": [
        {
          "output_type": "execute_result",
          "data": {
            "text/plain": "System.ArgumentException: An item with the same key has already been added. Key: Submission#22+PersionF\n   at System.Collections.Generic.Dictionary`2.TryInsert(TKey key, TValue value, InsertionBehavior behavior)\n   at System.Collections.Generic.Dictionary`2.Add(TKey key, TValue value)\n   at Submission#23.<<Initialize>>d__0.MoveNext()\n--- End of stack trace from previous location ---\n   at Microsoft.CodeAnalysis.Scripting.ScriptExecutionState.RunSubmissionsAsync[TResult](ImmutableArray`1 precedingExecutors, Func`2 currentExecutor, StrongBox`1 exceptionHolderOpt, Func`2 catchExceptionOpt, CancellationToken cancellationToken)"
          },
          "execution_count": 1,
          "metadata": {}
        }
      ]
    },
    {
      "cell_type": "code",
      "execution_count": 1,
      "metadata": {
        "dotnet_interactive": {
          "language": "csharp"
        }
      },
      "source": [
        "string position = persionPositionDic[new PersionF{ FristName = \"Jeffrey\", LastName = \"Ye\" }];\n",
        "Console.WriteLine(position);"
      ],
      "outputs": [
        {
          "output_type": "execute_result",
          "data": {
            "text/plain": "Software Engineer\n"
          },
          "execution_count": 1,
          "metadata": {}
        }
      ]
    },
    {
      "cell_type": "markdown",
      "metadata": {},
      "source": [
        "一切看起来都很完美，但事实并非如此。\n",
        "\n",
        "首先，在hashcode的实现中，整数在被放大，因此有可能溢出。"
      ]
    },
    {
      "cell_type": "code",
      "execution_count": 1,
      "metadata": {
        "dotnet_interactive": {
          "language": "csharp"
        }
      },
      "source": [
        "Console.WriteLine(Int32.MaxValue);\n",
        "Console.WriteLine(Int32.MaxValue + 10);"
      ],
      "outputs": [
        {
          "output_type": "execute_result",
          "data": {
            "text/plain": "(2,19): error CS0220: The operation overflows at compile time in checked mode"
          },
          "execution_count": 1,
          "metadata": {}
        }
      ]
    },
    {
      "cell_type": "markdown",
      "metadata": {},
      "source": [
        "我们可以告诉编译器，不用在这里检查，因为hashcode并不关心这个check，放弃check相当于取mod。\n",
        "```csharp\n",
        "public override int GetHashCode()\n",
        "{\n",
        "    unchecked\n",
        "    {\n",
        "        int HashingBase = 13;\n",
        "        int HashingMultiplier = 7;\n",
        "\n",
        "        int hash = HashingBase;\n",
        "        hash = (hash * HashingMultiplier) + (FristName is Object ? FristName.GetHashCode() : 0);\n",
        "        hash = (hash * HashingMultiplier) + (LastName is Object ? LastName.GetHashCode() : 0);\n",
        "        return hash;\n",
        "    }\n",
        "}\n",
        "```"
      ]
    },
    {
      "cell_type": "markdown",
      "metadata": {},
      "source": [
        "其次，我们可以通过把hash base与multiplier增大来降低hash冲突，并通过XOR运算提高效率，改进后的代码："
      ]
    },
    {
      "cell_type": "code",
      "execution_count": 1,
      "metadata": {
        "dotnet_interactive": {
          "language": "csharp"
        }
      },
      "source": [
        "public class PersionF\n",
        "{\n",
        "    public string FristName { get; set; }\n",
        "    public string LastName { get; set; }\n",
        "\n",
        "    public override bool Equals(Object obj)\n",
        "    {\n",
        "        if (obj is null) return false;\n",
        "        if (ReferenceEquals(this, obj)) return true;\n",
        "        if (obj.GetType() != this.GetType()) return false;\n",
        "        var other = obj as PersionF;\n",
        "        return this.FristName.Equals(other.FristName)\n",
        "            && this.LastName.Equals(other.LastName);\n",
        "    }\n",
        "\n",
        "    public static bool operator ==(PersionF left, PersionF right)\n",
        "    {\n",
        "        if (left is null) return right is null;\n",
        "        return left.Equals(right);\n",
        "    }\n",
        "\n",
        "    public static bool operator !=(PersionF left, PersionF right)\n",
        "    {\n",
        "        return !(left == right);\n",
        "    }\n",
        "\n",
        "    public override int GetHashCode()\n",
        "    {\n",
        "        unchecked\n",
        "        {\n",
        "            // Choose large primes to avoid hashing collisions\n",
        "            int HashingBase = (int) 2166136261;\n",
        "            int HashingMultiplier = 16777619;\n",
        "\n",
        "            // use ^ replace +, to speed up\n",
        "            int hash = HashingBase;\n",
        "            hash = (hash * HashingMultiplier) ^ (FristName is null ? 0: FristName.GetHashCode());\n",
        "            hash = (hash * HashingMultiplier) ^ (LastName is null ? 0: LastName.GetHashCode());\n",
        "            return hash;\n",
        "        }\n",
        "    }\n",
        "}"
      ],
      "outputs": []
    },
    {
      "cell_type": "markdown",
      "metadata": {},
      "source": [
        "如果能使用.NET Core 2.1+, 那么System.HashCode struct可以让事情变得简单。\n",
        "```csharp\n",
        "public override int GetHashCode()\n",
        "{\n",
        "    var hash = new System.HashCode();\n",
        "    hash.Add(FirstName);\n",
        "    hash.Add(LastName);\n",
        "    return hash.ToHashCode();\n",
        "}\n",
        "```\n",
        "or:\n",
        "```csharp\n",
        "public override int GetHashCode()\n",
        "{\n",
        "    return System.HashCode.Combine(FirstName, LastName);\n",
        "}\n",
        "```\n",
        "\n",
        "property为null的情形，这个struct也能处理，因此不用担心。"
      ]
    },
    {
      "cell_type": "markdown",
      "metadata": {},
      "source": [
        "## 结束了吗？\n",
        "\n",
        "没有。从上面的实现可以发现，要正确重载相等不是一件容易的事。这就要回到最基本的问题，何时应该要重写相等呢？通常是在你需要对象表现出纯数据特征时，也被非正式的成为数据对象。C#9引入了一个叫Record的新类型，专为数据对象而生。"
      ]
    },
    {
      "cell_type": "code",
      "execution_count": 1,
      "metadata": {
        "dotnet_interactive": {
          "language": "csharp"
        }
      },
      "source": [
        "public record PersionG\n",
        "{\n",
        "    public string FristName { get; set; }\n",
        "    public string LastName { get; set; }\n",
        "}"
      ],
      "outputs": []
    },
    {
      "cell_type": "markdown",
      "metadata": {},
      "source": [
        "任务完成！让我们来测试一下："
      ]
    },
    {
      "cell_type": "code",
      "execution_count": 1,
      "metadata": {
        "dotnet_interactive": {
          "language": "csharp"
        }
      },
      "source": [
        "var pg1 = new PersionG{ FristName = \"Jeffrey\", LastName = \"Ye\" };\n",
        "var pg2 = new PersionG{ FristName = \"Jeffrey\", LastName = \"Ye\" };\n",
        "Console.WriteLine($\"pg1.Equals(pg2): {pg1.Equals(pg2)}\");\n",
        "Console.WriteLine($\"pg1 == pg2: {pg1 == pg2}\");"
      ],
      "outputs": [
        {
          "output_type": "execute_result",
          "data": {
            "text/plain": "pg1.Equals(pg2): True\n"
          },
          "execution_count": 1,
          "metadata": {}
        },
        {
          "output_type": "execute_result",
          "data": {
            "text/plain": "pg1 == pg2: True\n"
          },
          "execution_count": 1,
          "metadata": {}
        }
      ]
    },
    {
      "cell_type": "code",
      "execution_count": 1,
      "metadata": {
        "dotnet_interactive": {
          "language": "csharp"
        }
      },
      "source": [
        "Dictionary<PersionG, string> persionPositionDic = new();\n",
        "persionPositionDic.Add(pg1, \"Software Engineer\");\n",
        "persionPositionDic.Add(pg2, \"Mechanical Engineer\");"
      ],
      "outputs": [
        {
          "output_type": "execute_result",
          "data": {
            "text/plain": "System.ArgumentException: An item with the same key has already been added. Key: PersionG { FristName = Jeffrey, LastName = Ye }\n   at System.Collections.Generic.Dictionary`2.TryInsert(TKey key, TValue value, InsertionBehavior behavior)\n   at System.Collections.Generic.Dictionary`2.Add(TKey key, TValue value)\n   at Submission#31.<<Initialize>>d__0.MoveNext()\n--- End of stack trace from previous location ---\n   at Microsoft.CodeAnalysis.Scripting.ScriptExecutionState.RunSubmissionsAsync[TResult](ImmutableArray`1 precedingExecutors, Func`2 currentExecutor, StrongBox`1 exceptionHolderOpt, Func`2 catchExceptionOpt, CancellationToken cancellationToken)"
          },
          "execution_count": 1,
          "metadata": {}
        }
      ]
    },
    {
      "cell_type": "code",
      "execution_count": 1,
      "metadata": {
        "dotnet_interactive": {
          "language": "csharp"
        }
      },
      "source": [
        "Console.WriteLine(persionPositionDic[new PersionG{ FristName = \"Jeffrey\", LastName = \"Ye\" }]);"
      ],
      "outputs": [
        {
          "output_type": "execute_result",
          "data": {
            "text/plain": "Software Engineer\n"
          },
          "execution_count": 1,
          "metadata": {}
        }
      ]
    },
    {
      "cell_type": "markdown",
      "metadata": {},
      "source": [
        "## 总结\n",
        "\n",
        "1. 如果你需要定义的类，概念上更趋向于数据对象（data objects），那么可以考虑使用record，这样就不用操心相等的重载。\n",
        "2. 如果不适合或者不能使用record，同时还要重载相等，那么你可以参考上面的方法来做。需要记住重载Equals时，通常都需要同时重载GetHashCode，操作符`==`，操作符`!=`."
      ]
    }
  ],
  "metadata": {
    "kernelspec": {
      "display_name": ".NET (C#)",
      "language": "C#",
      "name": ".net-csharp"
    },
    "language_info": {
      "file_extension": ".cs",
      "mimetype": "text/x-csharp",
      "name": "C#",
      "pygments_lexer": "csharp",
      "version": "8.0"
    }
  },
  "nbformat": 4,
  "nbformat_minor": 4
}